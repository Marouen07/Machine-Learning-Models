{
  "nbformat": 4,
  "nbformat_minor": 0,
  "metadata": {
    "kernelspec": {
      "display_name": "Python 3",
      "language": "python",
      "name": "python3"
    },
    "language_info": {
      "codemirror_mode": {
        "name": "ipython",
        "version": 3
      },
      "file_extension": ".py",
      "mimetype": "text/x-python",
      "name": "python",
      "nbconvert_exporter": "python",
      "pygments_lexer": "ipython3",
      "version": "3.6.5"
    },
    "colab": {
      "name": "Gibbs Sampling and Complete Separation.ipynb",
      "provenance": [],
      "collapsed_sections": [],
      "toc_visible": true
    }
  },
  "cells": [
    {
      "cell_type": "markdown",
      "metadata": {
        "id": "TnUXxd1FZTbk",
        "colab_type": "text"
      },
      "source": [
        "<h1><center>Gibbs sampling for the probit model and Complete Separation</center></h1>"
      ]
    },
    {
      "cell_type": "markdown",
      "metadata": {
        "id": "F5zXTCazf2sZ",
        "colab_type": "text"
      },
      "source": [
        "Download the German credit dataset available in e.g. the UCI repository:\n",
        "https://archive.ics.uci.edu/ml/machine-learning-databases/statlog/german/\n",
        "german.data-numeric\n",
        "We would like to classify the last column (good vs bad credit) based on the\n",
        "previous columns (see the UCI repository for more information on each variable).\n",
        "To do so, we consider the probit model, where $y_i = sgn(\\beta^Tx_i+\\epsilon_i)$, and $\\epsilon_i \\sim \\mathcal{N}(0, 1)$\n",
        "and a Gaussian prior $\\beta \\sim \\mathcal{N}(0, \\tau I_p)$ with p = dim $\\beta$, and $\\tau = 10^2$.\n"
      ]
    },
    {
      "cell_type": "code",
      "metadata": {
        "id": "gKes_PjuZTbs",
        "colab_type": "code",
        "colab": {}
      },
      "source": [
        "import numpy as np\n",
        "import pandas as pd\n",
        "from sklearn.model_selection import train_test_split\n",
        "import matplotlib.pyplot as plt\n",
        "from scipy.stats import truncnorm,mode\n",
        "import time"
      ],
      "execution_count": 0,
      "outputs": []
    },
    {
      "cell_type": "code",
      "metadata": {
        "id": "I2czXomEwUam",
        "colab_type": "code",
        "outputId": "f18bdd20-ad05-44bf-9db3-55ffba1486ab",
        "colab": {
          "base_uri": "https://localhost:8080/",
          "height": 202
        }
      },
      "source": [
        "!wget https://archive.ics.uci.edu/ml/machine-learning-databases/statlog/german/german.data-numeric"
      ],
      "execution_count": 2,
      "outputs": [
        {
          "output_type": "stream",
          "text": [
            "--2020-01-12 19:18:08--  https://archive.ics.uci.edu/ml/machine-learning-databases/statlog/german/german.data-numeric\n",
            "Resolving archive.ics.uci.edu (archive.ics.uci.edu)... 128.195.10.252\n",
            "Connecting to archive.ics.uci.edu (archive.ics.uci.edu)|128.195.10.252|:443... connected.\n",
            "HTTP request sent, awaiting response... 200 OK\n",
            "Length: 102000 (100K) [application/x-httpd-php]\n",
            "Saving to: ‘german.data-numeric’\n",
            "\n",
            "\rgerman.data-numeric   0%[                    ]       0  --.-KB/s               \rgerman.data-numeric 100%[===================>]  99.61K   518KB/s    in 0.2s    \n",
            "\n",
            "2020-01-12 19:18:09 (518 KB/s) - ‘german.data-numeric’ saved [102000/102000]\n",
            "\n"
          ],
          "name": "stdout"
        }
      ]
    },
    {
      "cell_type": "code",
      "metadata": {
        "id": "JF0LLrezZTb3",
        "colab_type": "code",
        "colab": {}
      },
      "source": [
        "data = pd.read_csv('/content/german.data-numeric', header= None, delimiter= '\\s+', index_col=False)\n",
        "X=data.iloc[:,:-1]\n",
        "cols = [\"x\"+str(i) for i in X.columns]\n",
        "X.columns = cols\n",
        "y=data.iloc[:,-1]\n",
        "#Normalisation\n",
        "X=(X-X.mean())/X.std()\n",
        "#adding a constant column \n",
        "X.insert(0,'cte', 1)\n",
        "#casting y values to +1 / -1 \n",
        "y=y*2-3"
      ],
      "execution_count": 0,
      "outputs": []
    },
    {
      "cell_type": "code",
      "metadata": {
        "id": "IiLWcP6JEjyb",
        "colab_type": "code",
        "colab": {}
      },
      "source": [
        "X_train, X_test, y_train, y_test = train_test_split(X.values, y.values, test_size=.2)"
      ],
      "execution_count": 0,
      "outputs": []
    },
    {
      "cell_type": "markdown",
      "metadata": {
        "id": "ybJ9lmdtf9cF",
        "colab_type": "text"
      },
      "source": [
        "#Gibbs Sampling\n"
      ]
    },
    {
      "cell_type": "markdown",
      "metadata": {
        "id": "LhQ74KrZMW_7",
        "colab_type": "text"
      },
      "source": [
        "The theory Behind Gibbs Sampling Is available on The Report.pdf"
      ]
    },
    {
      "cell_type": "markdown",
      "metadata": {
        "id": "fYas51j358OR",
        "colab_type": "text"
      },
      "source": [
        "we need to sequentially sample the following ( we start off with a burn in period) :(check report for more details ) \n",
        "*  $\\beta^{t+1} \\sim p(\\beta|z^t) = \\mathcal N(\\mu_p^t, \\Sigma_p) ,\\quad\n",
        "    \\Sigma_p = (\\frac1\\tau I_p + X^TX)^{-1},\n",
        "    \\quad\n",
        "    \\mu^t = \\Sigma_p X^Tz \n",
        "$\n",
        "\n",
        "*  $z^{t+1} \\sim \\mathcal{N} (x_i^T\\beta, 1; y_i)[z_i y_i>0] \\quad \\text{such that }p(z|\\beta^{t+1},y^t) = \\exp(-\\frac12\\|z-X\\beta\\|^2) \\prod_i \\mathbf{1}_{\\{y_iz_i > 0\\}}$\n",
        "\n",
        "\n",
        "\n",
        "\n"
      ]
    },
    {
      "cell_type": "code",
      "metadata": {
        "id": "fNJWWosd5JWW",
        "colab_type": "code",
        "colab": {}
      },
      "source": [
        "class GibbsSampler:\n",
        "    \"\"\"Gibbs sampler for the graphical model.\"\"\"\n",
        "    def __init__(self,tau=10**2, burn_in=1000):\n",
        "        self.burn_in = burn_in\n",
        "        self.tau = tau\n",
        "\n",
        "    def sample(self,X,y, n_iter):\n",
        "        \"\"\"Sampling from the posterior distribution.\n",
        "        -----------------------------------------------------------------\n",
        "        Input:\n",
        "            n_iter : number of iterations \n",
        "        ------------------------------------------------------------------            \n",
        "        Output:\n",
        "            beta_samples, z_samples : samples from the posterior \n",
        "        \"\"\"\n",
        "        n,p = X.shape\n",
        "        # posterior dist init \n",
        "        # covariance matrix\n",
        "        cov_ = np.linalg.inv(np.eye(p)/ self.tau + X.T @ X) \n",
        "        #z randomly initialized : \n",
        "        z = np.random.randn(n)\n",
        "        # mean\n",
        "        mu = cov_@X.T@z\n",
        "        temp = cov_ @ X.T #we don't need to calculate this every time\n",
        "        beta_samples= []\n",
        "        z_samples=[]\n",
        "        for t in range(self.burn_in+n_iter):\n",
        "            ## Sample beta\n",
        "            beta = np.random.multivariate_normal(mu, cov=cov_)\n",
        "            ## Sample z\n",
        "            mean = X@beta\n",
        "            a=np.where(y<0,-np.inf,-mean)\n",
        "            b=np.where(y>0,np.inf,-mean)\n",
        "            z= truncnorm.rvs(a, b, loc=mean)\n",
        "            mu = temp @ z  # shape (d,)\n",
        "            if t >= self.burn_in:\n",
        "                beta_samples+=[beta]\n",
        "                z_samples+=[z]\n",
        "        return np.array(beta_samples), np.array(z_samples)"
      ],
      "execution_count": 0,
      "outputs": []
    },
    {
      "cell_type": "code",
      "metadata": {
        "id": "YDptHo0hU9wr",
        "colab_type": "code",
        "colab": {}
      },
      "source": [
        "gi_sampler = GibbsSampler(burn_in=1000)"
      ],
      "execution_count": 0,
      "outputs": []
    },
    {
      "cell_type": "code",
      "metadata": {
        "id": "vzUljjNiVGkB",
        "colab_type": "code",
        "colab": {
          "base_uri": "https://localhost:8080/",
          "height": 34
        },
        "outputId": "b15db858-d4b3-4961-ba01-2e394aa50850"
      },
      "source": [
        "start_time = time.time()\n",
        "betas, zs = gi_sampler.sample(X_train,y_train,5000)\n",
        "print(\"Sampling Time: %.3f\" % (time.time()-start_time))"
      ],
      "execution_count": 7,
      "outputs": [
        {
          "output_type": "stream",
          "text": [
            "Sampling Time: 82.225\n"
          ],
          "name": "stdout"
        }
      ]
    },
    {
      "cell_type": "code",
      "metadata": {
        "id": "wOnSQwj1VjP7",
        "colab_type": "code",
        "outputId": "02d70b6b-dcc0-48d8-b280-dbaa57246d11",
        "colab": {
          "base_uri": "https://localhost:8080/",
          "height": 757
        }
      },
      "source": [
        "fig = plt.figure(figsize=(11, 6))\n",
        "nrows = 2\n",
        "ncols = 2\n",
        "n_bins = 40\n",
        "fig,axes=plt.subplots(nrows,ncols,figsize=(10,10))\n",
        "axes=axes.ravel()\n",
        "indices=[0,2,5,6]\n",
        "for i,idx in enumerate(indices):\n",
        "  axes[i].hist(betas[:, idx], bins=n_bins,rwidth=.9 )\n",
        "  axes[i].set_title('$\\\\beta_{%d}$' % idx)\n",
        "fig.tight_layout()\n",
        "fig.suptitle(\"Posterior Beta dist \", y=1.);"
      ],
      "execution_count": 8,
      "outputs": [
        {
          "output_type": "display_data",
          "data": {
            "text/plain": [
              "<Figure size 792x432 with 0 Axes>"
            ]
          },
          "metadata": {
            "tags": []
          }
        },
        {
          "output_type": "display_data",
          "data": {
            "image/png": "[encoded data removed]",
            "text/plain": [
              "<Figure size 720x720 with 4 Axes>"
            ]
          },
          "metadata": {
            "tags": []
          }
        }
      ]
    },
    {
      "cell_type": "code",
      "metadata": {
        "id": "j8vLRNsdYHyf",
        "colab_type": "code",
        "outputId": "27c1806b-0352-4f9c-ce1a-0016994a3b31",
        "colab": {
          "base_uri": "https://localhost:8080/",
          "height": 757
        }
      },
      "source": [
        "fig = plt.figure(figsize=(11, 6))\n",
        "nrows = 2\n",
        "ncols = 2\n",
        "n_bins = 40\n",
        "fig,axes=plt.subplots(nrows,ncols,figsize=(10,10))\n",
        "axes=axes.ravel()\n",
        "indices=[0,2,5,6]\n",
        "for i,idx in enumerate(indices):\n",
        "  axes[i].hist(zs[:, idx], bins=n_bins,rwidth=.9 )\n",
        "  axes[i].set_title('$z_{%d}$' % idx)\n",
        "fig.tight_layout()\n",
        "fig.suptitle(\"Posterior Z dist \", y=1.);"
      ],
      "execution_count": 9,
      "outputs": [
        {
          "output_type": "display_data",
          "data": {
            "text/plain": [
              "<Figure size 792x432 with 0 Axes>"
            ]
          },
          "metadata": {
            "tags": []
          }
        },
        {
          "output_type": "display_data",
          "data": {
            "image/png": "[encoded data removed]",
            "text/plain": [
              "<Figure size 720x720 with 4 Axes>"
            ]
          },
          "metadata": {
            "tags": []
          }
        }
      ]
    },
    {
      "cell_type": "code",
      "metadata": {
        "id": "3SxV2T3ZZuQw",
        "colab_type": "code",
        "colab": {}
      },
      "source": [
        "def predict(X,betas):\n",
        "        n= X.shape[0]\n",
        "        n_samples=betas.shape[0]\n",
        "        Z = X @betas.T + np.random.randn(n,n_samples )\n",
        "        Y=np.sign(np.sum(np.sign(Z),axis=1))\n",
        "        return Y #return most probable output "
      ],
      "execution_count": 0,
      "outputs": []
    },
    {
      "cell_type": "code",
      "metadata": {
        "id": "kwmXB2U1qoVS",
        "colab_type": "code",
        "colab": {}
      },
      "source": [
        "y_pred=predict(X_test,betas)"
      ],
      "execution_count": 0,
      "outputs": []
    },
    {
      "cell_type": "markdown",
      "metadata": {
        "id": "wWqeu04eg7Nk",
        "colab_type": "text"
      },
      "source": [
        "we get an accuracy of around 80%\n",
        "\n"
      ]
    },
    {
      "cell_type": "code",
      "metadata": {
        "id": "RgbDqxh5eLkh",
        "colab_type": "code",
        "colab": {
          "base_uri": "https://localhost:8080/",
          "height": 168
        },
        "outputId": "18846060-3dc5-475f-f178-84e52ca786a6"
      },
      "source": [
        "from sklearn.metrics import classification_report\n",
        "print(classification_report(y_test,y_pred))"
      ],
      "execution_count": 12,
      "outputs": [
        {
          "output_type": "stream",
          "text": [
            "              precision    recall  f1-score   support\n",
            "\n",
            "          -1       0.81      0.95      0.87       139\n",
            "           1       0.81      0.49      0.61        61\n",
            "\n",
            "    accuracy                           0.81       200\n",
            "   macro avg       0.81      0.72      0.74       200\n",
            "weighted avg       0.81      0.81      0.79       200\n",
            "\n"
          ],
          "name": "stdout"
        }
      ]
    },
    {
      "cell_type": "markdown",
      "metadata": {
        "id": "qRTFLrceqbZ8",
        "colab_type": "text"
      },
      "source": [
        "# Complete Separation "
      ]
    },
    {
      "cell_type": "markdown",
      "metadata": {
        "id": "OC8oPY_BMun6",
        "colab_type": "text"
      },
      "source": [
        "Complete separation occurs in a dataset if there exists β such that\n",
        "$y_iβ\\beta^Tx_i > 0 $ for all the datapoints.  maximum likelihood estimation is not  possible in this  case but we'll see that Gibbs sampling performs very well. "
      ]
    },
    {
      "cell_type": "markdown",
      "metadata": {
        "id": "9omzJIEbNAgk",
        "colab_type": "text"
      },
      "source": [
        "## Creating synthetic Completely seperable dataset "
      ]
    },
    {
      "cell_type": "code",
      "metadata": {
        "id": "djbMo27iqdxS",
        "colab_type": "code",
        "colab": {}
      },
      "source": [
        "x = np.random.randn(500, 2)\n",
        "beta = np.array([1.5, 1.5])\n",
        "sep = x @ beta + 2 > 0.\n",
        "x1 = x[sep]+[0.5,0.5]\n",
        "x2 = x[~sep]-[0.5,.5]#we add more seperation like this "
      ],
      "execution_count": 0,
      "outputs": []
    },
    {
      "cell_type": "code",
      "metadata": {
        "id": "tS55xvbdq85j",
        "colab_type": "code",
        "outputId": "dc30dada-8ac3-4236-b654-6b3f382ff4d9",
        "colab": {
          "base_uri": "https://localhost:8080/",
          "height": 624
        }
      },
      "source": [
        "fig = plt.figure(figsize=(10,10))\n",
        "plt.scatter(*x1.T,label=\"1\")\n",
        "plt.scatter(*x2.T,  label=\"-1\")\n",
        "t=np.linspace(-4,3,10)\n",
        "line=(beta[0]*t+2)/(-beta[1])\n",
        "plt.plot(t,line,color='r')\n",
        "plt.title(\"fully separable data\")\n",
        "plt.legend()"
      ],
      "execution_count": 14,
      "outputs": [
        {
          "output_type": "execute_result",
          "data": {
            "text/plain": [
              "<matplotlib.legend.Legend at 0x7ff354132438>"
            ]
          },
          "metadata": {
            "tags": []
          },
          "execution_count": 14
        },
        {
          "output_type": "display_data",
          "data": {
            "image/png": "[encoded data removed]",
            "text/plain": [
              "<Figure size 720x720 with 1 Axes>"
            ]
          },
          "metadata": {
            "tags": []
          }
        }
      ]
    },
    {
      "cell_type": "markdown",
      "metadata": {
        "id": "3qukG8gLNlF8",
        "colab_type": "text"
      },
      "source": [
        "## Testing Our Gibbs Sampler on the separable Dataset "
      ]
    },
    {
      "cell_type": "code",
      "metadata": {
        "id": "1l6KCyQAGPz3",
        "colab_type": "code",
        "colab": {}
      },
      "source": [
        "X=np.vstack((x1,x2))\n",
        "y = np.ones((x.shape[0],))\n",
        "y1 = y[sep]\n",
        "y2 = -y[~sep]\n",
        "Y=np.append(y1,y2)"
      ],
      "execution_count": 0,
      "outputs": []
    },
    {
      "cell_type": "code",
      "metadata": {
        "id": "Qq8Z3N72GuYy",
        "colab_type": "code",
        "colab": {}
      },
      "source": [
        "X_train, X_test, y_train, y_test = train_test_split(X, Y, test_size=.2)"
      ],
      "execution_count": 0,
      "outputs": []
    },
    {
      "cell_type": "code",
      "metadata": {
        "id": "QmSzhJtg3Xw6",
        "colab_type": "code",
        "outputId": "cadb49a0-0718-4767-b00a-6e38dfeff586",
        "colab": {
          "base_uri": "https://localhost:8080/",
          "height": 34
        }
      },
      "source": [
        "gi_sampler = GibbsSampler(burn_in=1000)\n",
        "start_time = time.time()\n",
        "betas, zs = gi_sampler.sample(X_train,y_train,5000)\n",
        "print(\"Sampling time: %.3f\" % (time.time()-start_time))"
      ],
      "execution_count": 0,
      "outputs": [
        {
          "output_type": "stream",
          "text": [
            "Sampling time: 24.706\n"
          ],
          "name": "stdout"
        }
      ]
    },
    {
      "cell_type": "code",
      "metadata": {
        "id": "wwrY_LpCz3LB",
        "colab_type": "code",
        "outputId": "ce1f0a03-80f6-43b6-8bd1-70828d232675",
        "colab": {
          "base_uri": "https://localhost:8080/",
          "height": 168
        }
      },
      "source": [
        "y_pred=predict(X_test,betas)\n",
        "print(classification_report(y_test,y_pred))"
      ],
      "execution_count": 0,
      "outputs": [
        {
          "output_type": "stream",
          "text": [
            "              precision    recall  f1-score   support\n",
            "\n",
            "        -1.0       0.88      1.00      0.94        15\n",
            "         1.0       1.00      0.98      0.99        85\n",
            "\n",
            "    accuracy                           0.98       100\n",
            "   macro avg       0.94      0.99      0.96       100\n",
            "weighted avg       0.98      0.98      0.98       100\n",
            "\n"
          ],
          "name": "stdout"
        }
      ]
    }
  ]
}